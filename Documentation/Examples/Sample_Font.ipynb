{
 "cells": [
  {
   "cell_type": "markdown",
   "metadata": {},
   "source": [
    "# **Font test** Notebook\n",
    "\n",
    "## Installation\n",
    "\n",
    "**Note**: if XKCD font (available [here](https://github.com/ekmett/arcade/raw/master/static/fonts/xkcd.ttf)) has been installed (in your directory `/home/.local/share/fonts/`) **after** matplotlib was ever run, you have to clean (i.e. remove) matplotlib's font cache by running in your terminal:\n",
    "\n",
    "```\n",
    "mkdir -p ~/.local/share/fonts/\n",
    "wget -q https://github.com/ekmett/arcade/raw/master/static/fonts/xkcd.ttf -O ~/.local/share/fonts/xkcd.ttf\n",
    "rm ~/.cache/matplotlib/fontlist*.json\n",
    "```\n",
    "Also, don't forget to **restart** your kernel so that matplotlib is reloaded."
   ]
  },
  {
   "cell_type": "code",
   "execution_count": null,
   "metadata": {
    "tags": []
   },
   "outputs": [],
   "source": [
    "%%bash\n",
    "\n",
    "if [[ ! -r ~/.local/share/fonts/xkcd.ttf ]]; then\n",
    "    mkdir -p ~/.local/share/fonts/\n",
    "    wget -q https://github.com/ekmett/arcade/raw/master/static/fonts/xkcd.ttf -O ~/.local/share/fonts/xkcd.ttf\n",
    "    rm ~/.cache/matplotlib/fontlist*.json\n",
    "    echo \"Please restart this kernel\"\n",
    "else\n",
    "    echo \"OK\"\n",
    "fi"
   ]
  },
  {
   "cell_type": "markdown",
   "metadata": {},
   "source": [
    "## Test XKCD font!"
   ]
  },
  {
   "cell_type": "code",
   "execution_count": null,
   "metadata": {
    "tags": []
   },
   "outputs": [],
   "source": [
    "from matplotlib import pyplot as plt\n",
    "import numpy as np\n",
    "import logging\n",
    "logging.getLogger('matplotlib.font_manager').disabled = True"
   ]
  },
  {
   "cell_type": "code",
   "execution_count": null,
   "metadata": {
    "tags": []
   },
   "outputs": [],
   "source": [
    "plt.xkcd()  # Yes...\n",
    "plt.plot(np.sin(np.linspace(0, 10)))\n",
    "plt.title('Whoo Hoo!!!')"
   ]
  },
  {
   "cell_type": "code",
   "execution_count": null,
   "metadata": {
    "tags": []
   },
   "outputs": [],
   "source": [
    "np.random.seed(0)\n",
    "ax = plt.axes()\n",
    "x = np.linspace(0, 10, 100)\n",
    "ax.plot(x, np.sin(x) * np.exp(-0.1 * (x - 5) ** 2), 'b', lw=1, label='damped sine')\n",
    "ax.plot(x, -np.cos(x) * np.exp(-0.1 * (x - 5) ** 2), 'r', lw=1, label='damped cosine')\n",
    "ax.set_title('check it out!')\n",
    "ax.set_xlabel('x label')\n",
    "ax.set_ylabel('y label')\n",
    "ax.legend(loc='lower right')\n",
    "ax.set_xlim(0, 10)\n",
    "ax.set_ylim(-1.0, 1.0)"
   ]
  },
  {
   "cell_type": "markdown",
   "metadata": {
    "tags": [],
    "user_expressions": []
   },
   "source": [
    "**End of notebook**"
   ]
  }
 ],
 "metadata": {
  "kernelspec": {
   "display_name": "Python3",
   "language": "python",
   "name": "python3"
  },
  "language_info": {
   "codemirror_mode": {
    "name": "ipython",
    "version": 3
   },
   "file_extension": ".py",
   "mimetype": "text/x-python",
   "name": "python",
   "nbconvert_exporter": "python",
   "pygments_lexer": "ipython3",
   "version": "3.12.3"
  }
 },
 "nbformat": 4,
 "nbformat_minor": 4
}
