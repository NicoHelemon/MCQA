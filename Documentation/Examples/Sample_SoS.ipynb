{
 "cells": [
  {
   "cell_type": "markdown",
   "metadata": {
    "kernel": "SoS",
    "tags": []
   },
   "source": [
    "# **Script of Script** Notebook"
   ]
  },
  {
   "cell_type": "code",
   "execution_count": null,
   "metadata": {
    "kernel": "Octave",
    "tags": []
   },
   "outputs": [],
   "source": [
    "%plot --format svg\n",
    "t = linspace(0,6*pi,100);\n",
    "plot(sin(t))\n",
    "grid on\n",
    "hold on\n",
    "plot(cos(t), 'r')"
   ]
  },
  {
   "cell_type": "code",
   "execution_count": null,
   "metadata": {
    "kernel": "Python3",
    "tags": []
   },
   "outputs": [],
   "source": [
    "%matplotlib widget\n",
    "import datetime\n",
    "import matplotlib.pyplot as plt\n",
    "import pytz\n",
    "import cartopy.crs as ccrs\n",
    "from cartopy.feature.nightshade import Nightshade\n",
    "\n",
    "def plot():\n",
    "    fig = plt.figure(figsize=(14, 7))\n",
    "    ax = fig.add_subplot(1, 1, 1, projection=ccrs.PlateCarree())\n",
    "    date = datetime.datetime.now(datetime.UTC)\n",
    "    tz = {'name': 'Europe/Zurich' ,'latitude': 47.366667, 'longitude': 8.55 }\n",
    "    ax.set_title('Night time shading for {} ({})'.format(datetime.datetime.now(pytz.timezone(tz['name'])), tz['name']))\n",
    "    # Map backgroud\n",
    "    ax.stock_img()\n",
    "    # Night shade\n",
    "    ax.add_feature(Nightshade(date, alpha=0.2))\n",
    "    # Plot TZ city\n",
    "    plt.plot(tz['longitude'], tz['latitude'], color = 'red', marker = '.')\n",
    "    plt.show()\n",
    "\n",
    "plot()"
   ]
  },
  {
   "cell_type": "markdown",
   "metadata": {
    "kernel": "SoS"
   },
   "source": [
    "## Moving variables from one subkernel to another"
   ]
  },
  {
   "cell_type": "code",
   "execution_count": null,
   "metadata": {
    "kernel": "JavaScript",
    "tags": []
   },
   "outputs": [],
   "source": [
    "%use JavaScript\n",
    "%put my_var --to Python3\n",
    "var my_var = 5;"
   ]
  },
  {
   "cell_type": "code",
   "execution_count": null,
   "metadata": {
    "kernel": "Python3",
    "tags": []
   },
   "outputs": [],
   "source": [
    "%use Python3\n",
    "%get my_var --from JavaScript\n",
    "\n",
    "print(my_var)"
   ]
  },
  {
   "cell_type": "code",
   "execution_count": null,
   "metadata": {
    "kernel": "Python3",
    "tags": []
   },
   "outputs": [],
   "source": [
    "%use Python3\n",
    "%put my_var --to JavaScript\n",
    "\n",
    "my_var += 5\n",
    "print(my_var)"
   ]
  },
  {
   "cell_type": "code",
   "execution_count": null,
   "metadata": {
    "kernel": "JavaScript",
    "tags": []
   },
   "outputs": [],
   "source": [
    "%use JavaScript\n",
    "%get my_var --from Python3\n",
    "\n",
    "console.log(my_var);"
   ]
  },
  {
   "cell_type": "markdown",
   "metadata": {
    "kernel": "SoS"
   },
   "source": [
    "**End of notebook**"
   ]
  }
 ],
 "metadata": {
  "kernelspec": {
   "display_name": "SoS",
   "language": "sos",
   "name": "sos"
  },
  "language_info": {
   "codemirror_mode": "sos",
   "file_extension": ".sos",
   "mimetype": "text/x-sos",
   "name": "sos",
   "nbconvert_exporter": "sos_notebook.converter.SoS_Exporter",
   "pygments_lexer": "sos"
  },
  "sos": {
   "kernels": [
    [
     "JavaScript",
     "javascript",
     "JavaScript",
     "#c8e1ae",
     ""
    ],
    [
     "Octave",
     "octave",
     "octave",
     "",
     ""
    ],
    [
     "Python3",
     "python3",
     "Python3",
     "#FFD91A",
     {
      "name": "ipython",
      "version": 3
     }
    ],
    [
     "SoS",
     "sos",
     "",
     "",
     "sos"
    ]
   ],
   "version": "0.24.1"
  }
 },
 "nbformat": 4,
 "nbformat_minor": 4
}
