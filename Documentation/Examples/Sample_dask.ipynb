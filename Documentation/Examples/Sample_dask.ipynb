{
 "cells": [
  {
   "cell_type": "markdown",
   "id": "2a027630-7a54-488c-a58a-a8b3a4ed34f3",
   "metadata": {
    "user_expressions": []
   },
   "source": [
    "# **dask** Notebook"
   ]
  },
  {
   "cell_type": "code",
   "execution_count": null,
   "id": "b85f282d-2191-4ded-946c-c19f22f210a3",
   "metadata": {
    "tags": []
   },
   "outputs": [],
   "source": [
    "from dask.distributed import Client"
   ]
  },
  {
   "cell_type": "code",
   "execution_count": null,
   "id": "ed88ae97-f655-4dc2-923e-dda7931b7d7a",
   "metadata": {
    "tags": []
   },
   "outputs": [],
   "source": [
    "client = Client(n_workers=2, threads_per_worker=2, memory_limit='500MB')"
   ]
  },
  {
   "cell_type": "code",
   "execution_count": null,
   "id": "9d468837-cd56-4d1b-9d46-187f1397e186",
   "metadata": {
    "tags": []
   },
   "outputs": [],
   "source": [
    "client"
   ]
  },
  {
   "cell_type": "code",
   "execution_count": null,
   "id": "6a503b2e-2efc-4676-84cb-56ec931f8b4b",
   "metadata": {
    "tags": []
   },
   "outputs": [],
   "source": [
    "import dask.array as da\n",
    "da.random.seed(123)\n",
    "x = da.random.random((5000, 5000), chunks=\"1 MiB\")\n",
    "x"
   ]
  },
  {
   "cell_type": "code",
   "execution_count": null,
   "id": "3df6980a-86d8-43d0-b7a5-ea68323ca3dc",
   "metadata": {
    "tags": []
   },
   "outputs": [],
   "source": [
    "y = (x + x.T) - x.mean(axis=0)\n",
    "y.sum().compute()\n",
    "\n",
    "# Result should be: 12500910.34697605"
   ]
  },
  {
   "cell_type": "markdown",
   "id": "564ea5ab-2020-43d4-b2da-cc3ead046a4d",
   "metadata": {},
   "source": [
    "**End of notebook**"
   ]
  }
 ],
 "metadata": {
  "kernelspec": {
   "display_name": "Python3",
   "language": "python",
   "name": "python3"
  },
  "language_info": {
   "codemirror_mode": {
    "name": "ipython",
    "version": 3
   },
   "file_extension": ".py",
   "mimetype": "text/x-python",
   "name": "python",
   "nbconvert_exporter": "python",
   "pygments_lexer": "ipython3",
   "version": "3.12.3"
  },
  "widgets": {
   "application/vnd.jupyter.widget-state+json": {
    "state": {},
    "version_major": 2,
    "version_minor": 0
   }
  }
 },
 "nbformat": 4,
 "nbformat_minor": 5
}
