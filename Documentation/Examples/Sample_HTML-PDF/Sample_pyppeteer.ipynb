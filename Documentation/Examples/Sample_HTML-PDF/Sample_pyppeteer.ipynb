{
 "cells": [
  {
   "cell_type": "markdown",
   "id": "4e156291-83a0-4006-850d-d364112de8b9",
   "metadata": {},
   "source": [
    "# **pyppeteer** Notebook\n",
    "\n",
    "Get main title (`H1`) from `https://example.com/`."
   ]
  },
  {
   "cell_type": "code",
   "execution_count": null,
   "id": "5ea1f904-7dca-4ca6-a653-3a74c19488a7",
   "metadata": {
    "tags": []
   },
   "outputs": [],
   "source": [
    "import asyncio\n",
    "from pyppeteer import launch\n",
    "from bs4 import BeautifulSoup\n",
    "import nest_asyncio     # needed if using Jupyter notebook, or Colab\n",
    "nest_asyncio.apply()    # needed if using Jupyter notebook, or Colab\n",
    "\n",
    "\n",
    "async def main():\n",
    "    browser = await launch(headless=True)\n",
    "    print('Browser ready')\n",
    "    page = await browser.newPage()\n",
    "    print('Page ready')\n",
    "    await page.goto('https://example.com/')\n",
    "    html = await page.content()\n",
    "    await browser.close()\n",
    "    return html\n",
    "\n",
    "\n",
    "html_response = asyncio.get_event_loop().run_until_complete(main())\n",
    "soup = BeautifulSoup(html_response, \"html.parser\")\n",
    "title = soup.find('h1').text.strip()\n",
    "print(f'Title: {title}')"
   ]
  },
  {
   "cell_type": "markdown",
   "id": "625d341a-1eef-48db-b643-c2013812e848",
   "metadata": {},
   "source": [
    "**End of notebook**"
   ]
  }
 ],
 "metadata": {
  "kernelspec": {
   "display_name": "Python3",
   "language": "python",
   "name": "python3"
  },
  "language_info": {
   "codemirror_mode": {
    "name": "ipython",
    "version": 3
   },
   "file_extension": ".py",
   "mimetype": "text/x-python",
   "name": "python",
   "nbconvert_exporter": "python",
   "pygments_lexer": "ipython3",
   "version": "3.12.3"
  }
 },
 "nbformat": 4,
 "nbformat_minor": 5
}
