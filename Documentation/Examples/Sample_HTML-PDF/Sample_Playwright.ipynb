{
 "cells": [
  {
   "cell_type": "markdown",
   "id": "2d797dc1-1c80-48c5-95ef-4e3b633ce94d",
   "metadata": {},
   "source": [
    "# **Playwright** Notebook\n",
    "\n",
    "This is an example notebook, using the `playwright` HTML/JS engine. The cell below will produce a png image of the website `example.com`."
   ]
  },
  {
   "cell_type": "code",
   "execution_count": 1,
   "id": "fc7426e6-3c29-4b3a-8d06-b0c7200be8d7",
   "metadata": {
    "execution": {
     "iopub.execute_input": "2024-08-27T09:04:38.981508Z",
     "iopub.status.busy": "2024-08-27T09:04:38.981044Z",
     "iopub.status.idle": "2024-08-27T09:04:41.096071Z",
     "shell.execute_reply": "2024-08-27T09:04:41.095184Z",
     "shell.execute_reply.started": "2024-08-27T09:04:38.981469Z"
    }
   },
   "outputs": [],
   "source": [
    "from playwright.async_api import async_playwright\n",
    "\n",
    "async with async_playwright() as p:\n",
    "    \n",
    "    browser = await p.chromium.launch()\n",
    "    page = await browser.new_page()\n",
    "    await page.goto('https://example.com/')\n",
    "    await page.screenshot(path=f'example.com.png')\n",
    "    await browser.close()"
   ]
  },
  {
   "cell_type": "markdown",
   "id": "512ff28d-2931-4c9c-bae9-d84d7fe3e1aa",
   "metadata": {
    "execution": {
     "iopub.execute_input": "2024-08-27T09:07:01.331591Z",
     "iopub.status.busy": "2024-08-27T09:07:01.331116Z",
     "iopub.status.idle": "2024-08-27T09:07:01.339788Z",
     "shell.execute_reply": "2024-08-27T09:07:01.338418Z",
     "shell.execute_reply.started": "2024-08-27T09:07:01.331552Z"
    }
   },
   "source": [
    "**End of notebook**"
   ]
  }
 ],
 "metadata": {
  "kernelspec": {
   "display_name": "Python3",
   "language": "python",
   "name": "python3"
  },
  "language_info": {
   "codemirror_mode": {
    "name": "ipython",
    "version": 3
   },
   "file_extension": ".py",
   "mimetype": "text/x-python",
   "name": "python",
   "nbconvert_exporter": "python",
   "pygments_lexer": "ipython3",
   "version": "3.12.3"
  }
 },
 "nbformat": 4,
 "nbformat_minor": 5
}
