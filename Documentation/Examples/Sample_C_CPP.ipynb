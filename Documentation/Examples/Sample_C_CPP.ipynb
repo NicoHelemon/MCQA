{
 "cells": [
  {
   "cell_type": "markdown",
   "metadata": {},
   "source": [
    "# **C** Notebook #"
   ]
  },
  {
   "cell_type": "code",
   "execution_count": null,
   "metadata": {
    "tags": []
   },
   "outputs": [],
   "source": [
    "#include <stdio.h>\n",
    "\n",
    "int main(){\n",
    "    printf(\"Hello World!\");\n",
    "}"
   ]
  },
  {
   "cell_type": "code",
   "execution_count": null,
   "metadata": {},
   "outputs": [],
   "source": [
    "std::cout << \"Hello World\" << std::endl;"
   ]
  },
  {
   "cell_type": "code",
   "execution_count": null,
   "metadata": {},
   "outputs": [],
   "source": [
    "int a = 5; //C-like initialization\n",
    "int b (3); //Constructor initialization\n",
    "int c {2}; //Uniform initialization\n",
    "std::cout << a << \" \" << b << \" \" << c << std::endl;"
   ]
  },
  {
   "cell_type": "code",
   "execution_count": null,
   "metadata": {},
   "outputs": [],
   "source": [
    "int x, b; //Declare empty variables\n",
    "x = 15;\n",
    "b = 1031;\n",
    "int y = 2, c = 4; //Declare where the value of y is 2, and c is 4\n",
    "std::string z, a = \"5\"; //Declare where z is the empty variable, and a is 5\n",
    "std::cout << \"Value of x is: \" << x << std::endl;\n",
    "std::cout << \"Value of y is: \" << y << std::endl;\n",
    "std::cout << \"Value of z is: \" << z << std::endl;\n",
    "std::cout << \"Value of a is: \" << a << std::endl;\n",
    "std::cout << \"Value of b is: \" << b << std::endl;\n",
    "std::cout << \"Value of c is: \" << c << std::endl;"
   ]
  },
  {
   "cell_type": "code",
   "execution_count": null,
   "metadata": {},
   "outputs": [],
   "source": [
    "class Calculator { \n",
    "  public:             \n",
    "    static int switcher(int mode, int a, int b) {\n",
    "        if (mode == 1) {\n",
    "            return sum(a, b);\n",
    "        } else {\n",
    "            return subtract(a, b);\n",
    "        }\n",
    "    }\n",
    "  private:\n",
    "    static int sum(int a, int b) { return a + b; }\n",
    "    static int subtract(int a, int b) {return a - b; }\n",
    "};\n",
    "\n",
    "int main() {\n",
    "    std::cout << Calculator::switcher(1, 2, 3) << std::endl;;\n",
    "    std::cout << Calculator::switcher(2, 3, 2);\n",
    "}"
   ]
  },
  {
   "cell_type": "markdown",
   "metadata": {},
   "source": [
    "**End of notebook**"
   ]
  }
 ],
 "metadata": {
  "kernelspec": {
   "display_name": "C++14",
   "language": "c++",
   "name": "cpp14"
  },
  "language_info": {
   "file_extension": ".cpp",
   "mimetype": "text/markdown",
   "name": "text/markdown"
  }
 },
 "nbformat": 4,
 "nbformat_minor": 4
}
