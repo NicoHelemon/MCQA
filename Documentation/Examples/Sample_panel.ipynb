{
 "cells": [
  {
   "cell_type": "markdown",
   "id": "191057be-cb36-4001-9589-f39492a66117",
   "metadata": {},
   "source": [
    "# **panel** Notebook\n",
    "\n",
    "Just click on the panel icon (blue square)."
   ]
  },
  {
   "cell_type": "code",
   "execution_count": null,
   "id": "0cac8c3a-8f42-4626-8d5a-326b9e00761c",
   "metadata": {
    "tags": []
   },
   "outputs": [],
   "source": [
    "import pandas as pd"
   ]
  },
  {
   "cell_type": "code",
   "execution_count": null,
   "id": "9af45c52-3a1e-4a1d-aa8a-ab3419cacf47",
   "metadata": {
    "tags": []
   },
   "outputs": [],
   "source": [
    "data_url = \"https://cdn.jsdelivr.net/gh/holoviz/panel@master/examples/assets/occupancy.csv\"\n",
    "data = pd.read_csv(data_url, parse_dates=[\"date\"]).set_index(\"date\")\n",
    "data.head()"
   ]
  },
  {
   "cell_type": "markdown",
   "id": "d5c92205-18e3-490f-b022-b3ffe982856c",
   "metadata": {},
   "source": [
    "# Data Visualization\n",
    "For simplicity we will be using Matplotlib. But you can use any of your favorite plotting libraries."
   ]
  },
  {
   "cell_type": "code",
   "execution_count": null,
   "id": "18d81af3-f1dc-4bed-a11d-1651bd1d10ab",
   "metadata": {
    "tags": []
   },
   "outputs": [],
   "source": [
    "import numpy as np\n",
    "from matplotlib.figure import Figure"
   ]
  },
  {
   "cell_type": "code",
   "execution_count": null,
   "id": "7a6a9fe8-37d4-4ae5-8d7e-389868bc6ea0",
   "metadata": {
    "tags": []
   },
   "outputs": [],
   "source": [
    "primary_color = \"#0072B5\"\n",
    "secondary_color = \"#94EA84\""
   ]
  },
  {
   "cell_type": "code",
   "execution_count": null,
   "id": "4a2a2c7b-e49a-4b71-9832-9deee77f45e9",
   "metadata": {
    "tags": []
   },
   "outputs": [],
   "source": [
    "def mpl_plot(avg, highlight):\n",
    "    fig = Figure(figsize=(10,5))\n",
    "    ax = fig.add_subplot()\n",
    "    avg.plot(ax=ax, c=primary_color)\n",
    "    if len(highlight):\n",
    "        highlight.plot(style=\"o\", ax=ax, c=secondary_color)\n",
    "    return fig"
   ]
  },
  {
   "cell_type": "code",
   "execution_count": null,
   "id": "1c8ff563-ae0a-47dc-b75c-ba8de9aa45d0",
   "metadata": {
    "tags": []
   },
   "outputs": [],
   "source": [
    "def find_outliers(variable=\"Temperature\", window=20, sigma=10, view_fn=mpl_plot):\n",
    "    avg = data[variable].rolling(window=window).mean()\n",
    "    residual = data[variable] - avg\n",
    "    std = residual.rolling(window=window).std()\n",
    "    outliers = np.abs(residual) > std * sigma\n",
    "    return view_fn(avg, avg[outliers])\n",
    "\n",
    "find_outliers()"
   ]
  },
  {
   "cell_type": "markdown",
   "id": "a8e09a57-05fd-4228-ba0d-41232c114c00",
   "metadata": {},
   "source": [
    "## Data Exploration\n",
    "Panel can also help you with **interactive data exploration**."
   ]
  },
  {
   "cell_type": "code",
   "execution_count": null,
   "id": "8c8e173e-f7cc-44b7-ae19-47457ab38888",
   "metadata": {
    "tags": []
   },
   "outputs": [],
   "source": [
    "import panel as pn\n",
    "pn.extension(sizing_mode=\"stretch_width\")"
   ]
  },
  {
   "cell_type": "code",
   "execution_count": null,
   "id": "e7f9fa4b-2478-4b8a-979c-5e6cf95aa870",
   "metadata": {
    "tags": []
   },
   "outputs": [],
   "source": [
    "# Widgets\n",
    "variable = pn.widgets.RadioBoxGroup(\n",
    "    name=\"Variable\", value=\"Temperature\", options=list(data.columns), margin=(-10, 5, 10, 10)\n",
    ")\n",
    "window = pn.widgets.IntSlider(name=\"Window\", value=20, start=1, end=60)"
   ]
  },
  {
   "cell_type": "code",
   "execution_count": null,
   "id": "471ed017-6db6-4fcd-ab07-d92757388a8f",
   "metadata": {
    "tags": []
   },
   "outputs": [],
   "source": [
    "# Reactive Functions\n",
    "reactive_outliers = pn.bind(find_outliers, variable, window, 10)"
   ]
  },
  {
   "cell_type": "code",
   "execution_count": null,
   "id": "370b9244-e841-4998-aa3d-757b03c8f73c",
   "metadata": {
    "tags": []
   },
   "outputs": [],
   "source": [
    "# Layouts\n",
    "settings = pn.Column(pn.pane.Markdown(\"Variable\", margin=10), variable, window)\n",
    "pn.Row(pn.WidgetBox(settings, sizing_mode=\"fixed\", width=200), pn.panel(reactive_outliers, sizing_mode=\"scale_width\"), margin=10)"
   ]
  },
  {
   "cell_type": "markdown",
   "id": "d2bcede6-5c16-41a7-af00-eafeeb0e2e0b",
   "metadata": {},
   "source": [
    "## Layout the App"
   ]
  },
  {
   "cell_type": "code",
   "execution_count": null,
   "id": "f530c0f5-7709-4c5f-a226-c9b7306a8fce",
   "metadata": {
    "tags": []
   },
   "outputs": [],
   "source": [
    "template = pn.template.FastListTemplate(\n",
    "    site=\"Panel\",\n",
    "    title=\"Getting Started Example\",\n",
    "    sidebar=[pn.pane.Markdown(\"Variable\"), variable, window],\n",
    "    main=[pn.panel(reactive_outliers, sizing_mode=\"scale_width\")],\n",
    "    accent_base_color=primary_color,\n",
    "    header_background=primary_color,\n",
    ")\n",
    "template.servable();"
   ]
  },
  {
   "cell_type": "markdown",
   "id": "78ca6bd9-d3db-473c-9b9d-677c3ece2ca6",
   "metadata": {
    "user_expressions": []
   },
   "source": [
    "**End of notebook**"
   ]
  }
 ],
 "metadata": {
  "kernelspec": {
   "display_name": "Python3",
   "language": "python",
   "name": "python3"
  },
  "language_info": {
   "codemirror_mode": {
    "name": "ipython",
    "version": 3
   },
   "file_extension": ".py",
   "mimetype": "text/x-python",
   "name": "python",
   "nbconvert_exporter": "python",
   "pygments_lexer": "ipython3",
   "version": "3.12.3"
  }
 },
 "nbformat": 4,
 "nbformat_minor": 5
}
