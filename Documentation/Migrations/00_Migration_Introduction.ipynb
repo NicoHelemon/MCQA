{
 "cells": [
  {
   "cell_type": "markdown",
   "id": "a1b1297c-1047-4008-a5d3-81b845ed6557",
   "metadata": {
    "user_expressions": []
   },
   "source": [
    "# About the migrations\n",
    "\n",
    "During the summer 2024, **noto** has been upgraded to a newer software stack.\n",
    "\n",
    "While many Python packages have been updated, there should not a huge gap with respect to the previous versions avaible previously.\n",
    "\n",
    "However, **the following components have been updated and do have a impact on your existing noto workspace**.\n",
    "\n",
    "## Python has been updated to version 3.12\n",
    "\n",
    "The main consequence for you is that your previous virtual environments will no longer work.\n",
    "When activated, those virtual environment will totally be ignored by Python 3.12.\n",
    "\n",
    "Those previous virtual environments need to be migrated to Python 3.12.\n",
    "The migration consists in:\n",
    "- Renaming the old virtual environments\n",
    "- Creating new virtual environments\n",
    "- Extracting a list of python modules from the old virtual environment\n",
    "- Installing the python modules in the new virtual environment\n",
    "- Removing the old virtual environment\n",
    "\n",
    "We made a notebook to guide you through the migration: check the [virtual environment migration guide](./10_Migration_VirtualEnvs.ipynb).\n",
    "\n",
    "## R has been updated from version 4.1.x to version 4.4.x\n",
    "\n",
    "When you are installing extra libraries for R, they get installed in the folder folder:\n",
    "```\n",
    "/home/.local/R/a.b/lib/xxx\n",
    "```\n",
    "Where `a.b` is the R version and `xxx` is the name of the extra library (*e.g.* `/home/.local/R/4.1/lib/date`).\n",
    "\n",
    "It is not recommended to simply copy a lib from `/home/.local/R/4.1/lib/xxx` to `/home/.local/R/4.4/lib/xxx`: R libs are designed to work with a specific R version, and some are compiled against system libraried that have changed.\n",
    "\n",
    "The goal for a successful R migration is to:\n",
    "- Get a list of the R libraries that have been previously installed\n",
    "- Install those libraries again\n",
    "\n",
    "We made a notebook to guide you through the migration: check the [R libraries migration guide](./20_Migration_R_Libs.ipynb)."
   ]
  },
  {
   "cell_type": "markdown",
   "id": "6ef56231-8c15-4569-8ab0-7d27952b6982",
   "metadata": {
    "user_expressions": []
   },
   "source": [
    "**End of notebook**"
   ]
  }
 ],
 "metadata": {
  "kernelspec": {
   "display_name": "Python3",
   "language": "python",
   "name": "python3"
  },
  "language_info": {
   "codemirror_mode": {
    "name": "ipython",
    "version": 3
   },
   "file_extension": ".py",
   "mimetype": "text/x-python",
   "name": "python",
   "nbconvert_exporter": "python",
   "pygments_lexer": "ipython3",
   "version": "3.12.3"
  }
 },
 "nbformat": 4,
 "nbformat_minor": 5
}
