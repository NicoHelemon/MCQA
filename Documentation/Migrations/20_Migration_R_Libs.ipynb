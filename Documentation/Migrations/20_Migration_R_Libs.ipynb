{
 "cells": [
  {
   "cell_type": "markdown",
   "id": "9c942333-2dc2-4995-8ec4-029e18eb486b",
   "metadata": {
    "user_expressions": []
   },
   "source": [
    "# Migrating R libraries R\n",
    "\n",
    "*Note:* it is safe to run this notebook several times. If no actions are required, then nothing will be done."
   ]
  },
  {
   "cell_type": "code",
   "execution_count": null,
   "id": "14ea1918-187c-444f-9c76-aef321c04215",
   "metadata": {
    "tags": []
   },
   "outputs": [],
   "source": [
    "function list_old_r_versions() {\n",
    "    find ${R_LIBS_DIR} -mindepth 1 -maxdepth 1 -type d -exec basename {} \\; | grep -v \"${NEW}\" | sort\n",
    "}\n",
    "\n",
    "function list_libs() {\n",
    "    # First parameter: R versions (e.g. 3.8)\n",
    "    # Second optional parameter: 0 or 1 (create or not a R lib directory)\n",
    "    local version=$1\n",
    "    local do_create=${2:-0}\n",
    "    [[ ${do_create} -eq 1 ]] && mkdir -p ${R_LIBS_DIR}/${version}/lib\n",
    "    local path=\"${R_LIBS_DIR}/${version}/lib\"\n",
    "    if [[ -d ${path} ]]; then\n",
    "        find ${path} -maxdepth 1 -mindepth 1 -type d | rev | cut -d '/' -f 1 | rev\n",
    "    else\n",
    "        return 0\n",
    "    fi\n",
    "}\n",
    "\n",
    "function set_variables() {\n",
    "    MIRROR=\"https://stat.ethz.ch/CRAN/\"\n",
    "    R_LIBS_DIR=\"/home/.local/R\"\n",
    "    NEW=\"$(R --version | head -n 1 | cut -d ' ' -f 3 | cut -d '.' -f 1-2)\"\n",
    "    \n",
    "    if [[ $(list_old_r_versions | wc -l) -eq 0 ]]; then\n",
    "        echo \"No old R versions found !\"\n",
    "        return 0\n",
    "    fi\n",
    "    if [[ -z ${NEW} ]]; then\n",
    "        echo \"Current R version could not be determined!\"\n",
    "        return 1\n",
    "    fi\n",
    "    echo \"Old R versions found:\"\n",
    "    list_old_r_versions\n",
    "    echo \"Current R version is:\"\n",
    "    echo ${NEW}\n",
    "    echo \"Package Mirror:\"\n",
    "    echo ${MIRROR}\n",
    "    return 0\n",
    "}\n",
    "\n",
    "set_variables"
   ]
  },
  {
   "cell_type": "markdown",
   "id": "69cdb758-e432-4d9c-8bd0-1f1fa4db499a",
   "metadata": {
    "user_expressions": []
   },
   "source": [
    "## Did you install extra R libraries?\n",
    "\n",
    "Let's check that! Run the next command to list the installed R libraries that need migrating:"
   ]
  },
  {
   "cell_type": "code",
   "execution_count": null,
   "id": "81d7bb14-bac7-412c-aefa-f020141ee6f1",
   "metadata": {
    "tags": []
   },
   "outputs": [],
   "source": [
    "function check_libs_to_migrate() {\n",
    "    set_variables > /dev/null\n",
    "    [[ $? -eq 1 ]] && return 1\n",
    "    for version in $(list_old_r_versions); do\n",
    "        echo \"Checking what libs need to be migrated from R version ${version} to R version ${NEW}:\"\n",
    "        list_libs ${version}\n",
    "    done\n",
    "    echo \"All done!\"\n",
    "}\n",
    "\n",
    "check_libs_to_migrate"
   ]
  },
  {
   "cell_type": "markdown",
   "id": "b76ee68a-5822-4405-8802-92e16d4c8eec",
   "metadata": {
    "user_expressions": []
   },
   "source": [
    "If the output of the previous cell is empty, it means that you do not have installed any R libraries. **You are done with this guide!**\n",
    "\n",
    "If the cell output contains a list of libraries, then read on to re-install those libraries!"
   ]
  },
  {
   "cell_type": "markdown",
   "id": "d2ebc1dd-bb47-4fb5-834c-0b5c3c2b98d4",
   "metadata": {
    "user_expressions": []
   },
   "source": [
    "## Let's re-install the R libraries\n",
    "\n",
    "By running the following cell, all the existing old R libraries will be installed again in your new R environment."
   ]
  },
  {
   "cell_type": "code",
   "execution_count": null,
   "id": "d22a54de-4c27-4f86-adf3-1515a4c8bf56",
   "metadata": {
    "tags": []
   },
   "outputs": [],
   "source": [
    "function run_r_command() {\n",
    "        Rscript --slave --no-save --no-restore-history -e \"$@\"\n",
    "}\n",
    "\n",
    "function migrate_libs() {\n",
    "    set_variables > /dev/null\n",
    "    [[ $? -eq 1 ]] && return 1\n",
    "    for version in $(list_old_r_versions); do\n",
    "        echo \"Dealing with R version ${version}...\"\n",
    "        for lib in $(list_libs ${version}); do\n",
    "            echo \"* Processing ${lib} (from R ${version})\"\n",
    "            if [[ $(list_libs ${NEW} 1 | grep -c \"^${lib}$\") -eq 1 ]]; then\n",
    "                echo \"Library ${lib} has already been migrated to R ${NEW}\"\n",
    "            else\n",
    "                cmd=\"install.packages(pkgs='${lib}', repos=c('${MIRROR}'), lib='~/.local/R/${NEW}/lib');\"\n",
    "                time run_r_command \"$cmd\"\n",
    "            fi\n",
    "            echo\n",
    "        done\n",
    "        echo \"Done for R version ${version}\"\n",
    "    done\n",
    "    echo \"All done!\"\n",
    "}\n",
    "\n",
    "migrate_libs"
   ]
  },
  {
   "cell_type": "markdown",
   "id": "be87d2df-28a4-499d-b46c-30623a1efebc",
   "metadata": {
    "user_expressions": []
   },
   "source": [
    "## Clean-up\n",
    "\n",
    "Once all R libraries have been migrated, you are ready to remove the old R libraries.\n",
    "Run the following cell to remove all libraries that have been migrated."
   ]
  },
  {
   "cell_type": "code",
   "execution_count": null,
   "id": "ffae879f-9a10-476c-b686-b402c7aa8e65",
   "metadata": {
    "tags": []
   },
   "outputs": [],
   "source": [
    "function cleanup_libs() {\n",
    "    set_variables > /dev/null\n",
    "    [[ $? -eq 1 ]] && return 1\n",
    "    for version in $(list_old_r_versions); do\n",
    "        for lib in $(list_libs ${version}); do\n",
    "            echo \"* Processing ${lib} (R ${version})\"\n",
    "            if [[ $(list_libs ${NEW} 1 | grep -c \"^${lib}$\") -eq 1 ]]; then\n",
    "                echo \"Library ${lib} has already been migrated to R ${NEW} => Removing it\"\n",
    "                rm -rf /home/.local/R/${version}/lib/${lib}\n",
    "            else\n",
    "                echo \"Library ${lib} has NOT been migrated to R ${NEW}. Remove it manually if you don't need it:\"\n",
    "                echo \"rm -rf /home/.local/R/${version}/lib/${lib}\"\n",
    "            fi\n",
    "        done\n",
    "        if [[ -d /home/.local/R/${version}/lib && -n \"$(find /home/.local/R/${version}/lib -maxdepth 0 -type d -empty 2> /dev/null)\" ]]; then\n",
    "        echo \"No more R ${version} libraries found. Removing /home/.local/R/${version}.\"\n",
    "        rm -rf /home/.local/R/${version}\n",
    "        fi\n",
    "    done\n",
    "    echo \"All done!\"\n",
    "}\n",
    "\n",
    "cleanup_libs"
   ]
  },
  {
   "cell_type": "markdown",
   "id": "49a6afdc-035c-419b-b98d-4873ef11295e",
   "metadata": {
    "user_expressions": []
   },
   "source": [
    "**End of notebook**"
   ]
  }
 ],
 "metadata": {
  "kernelspec": {
   "display_name": "Bash",
   "language": "bash",
   "name": "bash"
  },
  "language_info": {
   "codemirror_mode": "shell",
   "file_extension": ".sh",
   "mimetype": "text/x-sh",
   "name": "bash"
  }
 },
 "nbformat": 4,
 "nbformat_minor": 5
}
