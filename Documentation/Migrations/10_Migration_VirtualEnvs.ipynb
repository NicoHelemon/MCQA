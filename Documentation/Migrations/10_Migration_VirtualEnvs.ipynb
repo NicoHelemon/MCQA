{
 "cells": [
  {
   "cell_type": "markdown",
   "id": "26a7b075-cc2e-4296-8141-190adbeedf28",
   "metadata": {
    "user_expressions": []
   },
   "source": [
    "# Migrating virtual environments to the latest Python\n",
    "\n",
    "*Note:* it is safe to run this notebook several times. If no actions are required, then nothing will be done.\n",
    "\n",
    "## Firstly, do you need to migrate your virtual environmments?\n",
    "If you created virtual environments, they will not work with the new Python.\n",
    "\n",
    "First, let's get the list of your virtual environments using old Python:"
   ]
  },
  {
   "cell_type": "code",
   "execution_count": null,
   "id": "312ce9fd-c60f-4cd1-981a-99228012849c",
   "metadata": {
    "tags": []
   },
   "outputs": [],
   "source": [
    "function list_old_venvs() {\n",
    "    local current_python=$(python --version | cut -d ' ' -f 2 | cut -d '.' -f 1-2)\n",
    "    find /home/my_venvs/ -maxdepth 3 -mindepth 3 -type d | grep '/python3.[0-9]\\+' | grep -v \"/python${current_python}$\" | cut -d '/' -f 4 | grep -v '_migration'\n",
    "    return 0\n",
    "}\n",
    "\n",
    "function list_migrate_venvs() {\n",
    "    find /home/my_venvs/ -maxdepth 3 -mindepth 3 -type d | grep '/python3.[0-9]\\+' | cut -d '/' -f 4 | grep '_migration'\n",
    "    return 0\n",
    "}\n",
    "\n",
    "function list_venvs() {\n",
    "    local current_python=$(python --version | cut -d ' ' -f 2 | cut -d '.' -f 1-2)\n",
    "    find /home/my_venvs/ -maxdepth 3 -mindepth 3 -type d | grep \"/python${current_python}$\" | cut -d '/' -f 4 | grep -v '_migration'\n",
    "    return 0\n",
    "}\n",
    "\n",
    "echo \"* Old envs:\"\n",
    "list_old_venvs\n",
    "echo \"* Envs to migrate:\"\n",
    "list_migrate_venvs\n",
    "echo \"* New envs:\"\n",
    "list_venvs"
   ]
  },
  {
   "cell_type": "markdown",
   "id": "96c620eb-85bb-478c-beb9-77019a843ce2",
   "metadata": {
    "user_expressions": []
   },
   "source": [
    "* If you do not have any virtual environment using Python 3.6 (*i.e.* previous cell's output has an empty \"Old envs\" list), then you do not need to migrate anything!\n",
    "\n",
    "* If you no longer need any of the virtual environments, run the command in a terminal to a virtual environment:\n",
    "\n",
    "`my_venvs_remove [venv_name]`\n",
    "\n",
    "Once, this is done, you can come back to this notebook and migrate the remaining virtual environments to Python 3.8 by following the next instructions."
   ]
  },
  {
   "cell_type": "markdown",
   "id": "7b9ef41d-524d-4f60-958b-298ed05c0496",
   "metadata": {
    "user_expressions": []
   },
   "source": [
    "## Let's rename your old virtual environments\n",
    "\n",
    "Run the next cell to rename you old Python 3.6 virtual environments."
   ]
  },
  {
   "cell_type": "code",
   "execution_count": null,
   "id": "8c2d033f-6e9d-4ba3-98a2-e39083479dd8",
   "metadata": {
    "tags": []
   },
   "outputs": [],
   "source": [
    "for venv in $(list_old_venvs); do\n",
    "    new_name=\"/home/my_venvs/${venv}_migration\"\n",
    "    if [[ ! -d ${new_name} ]]; then\n",
    "        echo \"Renaming ${venv} -> ${new_name}\"\n",
    "        mv /home/my_venvs/${venv} ${new_name}\n",
    "    else\n",
    "        echo \"Already exists: ${new_name}\"\n",
    "    fi\n",
    "done\n",
    "echo \"All good!\""
   ]
  },
  {
   "cell_type": "markdown",
   "id": "09d61595-93e5-472e-9ebc-17c710debf30",
   "metadata": {
    "user_expressions": []
   },
   "source": [
    "Let's now check the new name of the virtual environments that need to be migrated:"
   ]
  },
  {
   "cell_type": "code",
   "execution_count": null,
   "id": "5f4eea04-54dd-47df-b463-cda455b8401e",
   "metadata": {
    "tags": []
   },
   "outputs": [],
   "source": [
    "list_migrate_venvs"
   ]
  },
  {
   "cell_type": "markdown",
   "id": "270d8c12-9e06-4892-b66b-ae436e988250",
   "metadata": {
    "user_expressions": []
   },
   "source": [
    "## Let's create brand new virtual environments\n",
    "\n",
    "The next cell will create a new Python virtual environment for each of your old Python virtual environment. Note that this will take some time (around 90 seconds per virtual environment).\n",
    "It will also write a list of the python modules that were installed in a file called `requirements.txt` in each new virtual environments."
   ]
  },
  {
   "cell_type": "code",
   "execution_count": null,
   "id": "f1693180-15ab-4a7c-8637-c43e56b18547",
   "metadata": {
    "tags": []
   },
   "outputs": [],
   "source": [
    "for old_v in $(list_migrate_venvs); do\n",
    "    new_v=$(echo $old_v | sed 's/_migration$//')\n",
    "    \n",
    "    # Loop on all venvs and create a new venv\n",
    "    echo \"* Creating $new_v for $old_v\"\n",
    "    if [[ ! -d /home/my_venvs/$new_v ]]; then\n",
    "        my_venvs_create $new_v\n",
    "    else\n",
    "        echo \"Venv ${new_v} already exists. Aborting.\"\n",
    "        continue\n",
    "    fi\n",
    "    \n",
    "    # Get a list of installed packages and build a requirement.txt file\n",
    "    req=\"/home/my_venvs/${new_v}/mig_requirements.txt\"\n",
    "    rm -f $req\n",
    "    for p in $(find /home/my_venvs/${old_v}//lib/python*/site-packages -maxdepth 1 -mindepth 1 -type d -name '*.dist-info' \\\n",
    "                | rev | cut -d '-' -f 3- | cut -d '/' -f 1 | rev | grep -v '^\\(pip\\|pkg_resources\\|setuptools\\|wheel\\)'); do\n",
    "        echo $p | tee -a $req\n",
    "    done\n",
    "    echo \"File $req created.\"\n",
    "    echo \"Done for $new_v.\"\n",
    "done\n",
    "echo \"All done!\""
   ]
  },
  {
   "cell_type": "markdown",
   "id": "1e840220-d9f2-40a5-8eda-08ed723c3c6d",
   "metadata": {
    "user_expressions": []
   },
   "source": [
    "## Let's populate the new virtual environments with python modules\n",
    "\n",
    "At this point, the new virtual environments are empty and we have a list of modules to install (`mig_requirements.txt`).\n",
    "You can remove the old virtual environments right now, or you can do it later on.\n",
    "\n",
    "**Run** the next cell and then copy & paste the **output text (commands)** in a terminal."
   ]
  },
  {
   "cell_type": "code",
   "execution_count": null,
   "id": "d490a07c-8085-4c46-ae64-843b2b070dc7",
   "metadata": {
    "tags": []
   },
   "outputs": [],
   "source": [
    "for old_v in $(list_migrate_venvs); do\n",
    "    new_v=$(echo $old_v | sed 's/_migration$//')\n",
    "    echo \"# Commands for $new_v:\"\n",
    "    echo \"my_venvs_activate $new_v\"\n",
    "    echo \"pip install -r /home/my_venvs/$new_v/mig_requirements.txt\"\n",
    "    echo \"rm -f /home/my_venvs/$new_v/mig_requirements.txt\"\n",
    "    echo \"deactivate\"\n",
    "    echo\n",
    "done\n",
    "echo \"All done!\""
   ]
  },
  {
   "cell_type": "markdown",
   "id": "825f62a5-9e2b-4443-b968-812cabf1a6d5",
   "metadata": {
    "user_expressions": []
   },
   "source": [
    "Once you are happy with the new virtual environments, you can delete the old one (run the next cell and copy & paste the output text (commands) in a terminal)."
   ]
  },
  {
   "cell_type": "code",
   "execution_count": null,
   "id": "272d2b2a-13fc-464e-9335-11627c31676b",
   "metadata": {
    "tags": []
   },
   "outputs": [],
   "source": [
    "for old_v in $(list_migrate_venvs); do\n",
    "    echo \"# Commands for $old_v\"\n",
    "    echo \"my_venvs_remove $old_v\"\n",
    "    echo\n",
    "done"
   ]
  },
  {
   "cell_type": "markdown",
   "id": "0ba5af5c-5cb4-4555-9c03-708a7f8b7d10",
   "metadata": {
    "user_expressions": []
   },
   "source": [
    "## Let's check your kernel spec files\n",
    "\n",
    "Most probably, you installed a Python kernel that used to run in your old (Python 3.6) virtual environments.\n",
    "We need to make sure that the kernel spec files references a Python3 executable that still exists in the new virtual environment.\n",
    "\n",
    "**In most cases, that should be the case.** If the new virtual environment has the same name that the old one, then it should work."
   ]
  },
  {
   "cell_type": "code",
   "execution_count": null,
   "id": "6329f8e5-d109-40a1-8ab3-feb09ab0a469",
   "metadata": {
    "tags": []
   },
   "outputs": [],
   "source": [
    "for kernel in $(my_kernels_list | grep '/home/.local/share/jupyter/kernels' | rev | cut -d ' ' -f 1 | rev); do\n",
    "    echo \"* Checking kernel spec $kernel/kernel.json:\"\n",
    "    cat $kernel/kernel.json | jq .\n",
    "    p_exe=$(cat $kernel/kernel.json | jq \".argv[0]\" | cut -d '\"' -f 2)\n",
    "    echo \"Python executable for this kernel is $p_exe\"\n",
    "    if [[ ! -x $p_exe ]]; then\n",
    "        echo \"This Python executable is NOT correct. Please fix this kernel!\"\n",
    "    else\n",
    "        echo \"This Python executable is correct!\"\n",
    "    fi\n",
    "    echo\n",
    "done\n",
    "echo \"All done!\""
   ]
  },
  {
   "cell_type": "markdown",
   "id": "a2529f9f-cc29-4736-9be9-0e9819455a72",
   "metadata": {
    "tags": []
   },
   "source": [
    "## Manual correction of the kernel spec files\n",
    "\n",
    "In the rare event that a kernel no longer references an existing virtual environment, execute the following steps in a terminal:\n",
    "\n",
    "* remove the corresponding kernel (`my_kernels_remove [kernel_name]`)\n",
    "* activate the virtual environment (`my_venvs_activate [virtual_env_name]`)\n",
    "* install the new kernel (`my_kernels_create [kernel_name] [visible_name]`)\n",
    "* deactivate the virtual environment (`deactivate`)\n",
    "\n",
    "This will remove the old kernel spec and install a new one.\n",
    "\n",
    "Example, from a terminal:\n",
    "```\n",
    "$ my_kernels_remove numpy\n",
    "Kernel specs to remove:\n",
    "  numpy                 /home/.local/share/jupyter/kernels/numpy\n",
    "Remove 1 kernel specs [y/N]: y\n",
    "[RemoveKernelSpec] Removed /home/.local/share/jupyter/kernels/numpy\n",
    "$ my_venvs_activate numpy\n",
    "(numpy) $ my_kernels_create numpy \"P3 (numpy_venv)\"\n",
    "Installed kernelspec numpy in /home/.local/share/jupyter/kernels/numpy\n",
    "(numpy) povalles@noto:~ $ deactivate\n",
    "$\n",
    "```"
   ]
  },
  {
   "cell_type": "markdown",
   "id": "ad0f1c72-59c1-4819-84ca-88baca692f52",
   "metadata": {
    "user_expressions": []
   },
   "source": [
    "**End of notebook**"
   ]
  }
 ],
 "metadata": {
  "kernelspec": {
   "display_name": "Bash",
   "language": "bash",
   "name": "bash"
  },
  "language_info": {
   "codemirror_mode": "shell",
   "file_extension": ".sh",
   "mimetype": "text/x-sh",
   "name": "bash"
  },
  "widgets": {
   "application/vnd.jupyter.widget-state+json": {
    "state": {},
    "version_major": 2,
    "version_minor": 0
   }
  }
 },
 "nbformat": 4,
 "nbformat_minor": 5
}
