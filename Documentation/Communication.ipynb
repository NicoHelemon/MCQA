{
 "cells": [
  {
   "cell_type": "markdown",
   "id": "56dc7f55-8ebd-44b6-8e81-9bb93b75f694",
   "metadata": {},
   "source": [
    "# Welcome to `noto 2024.09`\n",
    "If you wish to contact the Noto team to report a bug or request new features, send an email to [noto-support@groupes.epfl.ch](mailto:noto-support@groupes.epfl.ch).\n",
    "\n",
    "## Latest news\n",
    "\n",
    "### Noto is now running to JupyterLab 4.2.x\n",
    "\n",
    "During the summer 2024, the noto platform has been migrated to a newer software stack, including:\n",
    "- JupyterLab 4.2\n",
    "- Python 3.12\n",
    "- R 4.4\n",
    "- GCC 13\n",
    "\n",
    "The rest of the Python stack (matplotlib, plotly, etc.) has also been updated.\n",
    "\n",
    "While we hope that this transition will be easy on our users, there could still be bugs and imcompatibilies that slipped in under our radar.\n",
    "\n",
    "**We encourage you to test your notebooks and repport any regression at [noto-support@groupes.epfl.ch](mailto:noto-support@groupes.epfl.ch).**\n",
    "\n",
    "### Required migrations\n",
    "\n",
    "Because of the aforementioned changes, there are actions required on the user side.\n",
    "\n",
    "Namely, user will have to migrate their virtual environments and personal R libraries:\n",
    "* See the [migration documentation entry point](./Migrations/00_Migration_Introduction.ipynb)\n",
    "* See the [virtual environment migration guide](./Migrations/10_Migration_VirtualEnvs.ipynb) if you want to migrate your virtual environments.\n",
    "* See the [R libraries migration guide](./Migrations/20_Migration_R_Libs.ipynb) if you want to migrate your R libraries."
   ]
  },
  {
   "cell_type": "markdown",
   "id": "59b0f0f0-88b7-4f88-ad06-004e19e55d90",
   "metadata": {
    "user_expressions": []
   },
   "source": [
    "**End of notebook**"
   ]
  }
 ],
 "metadata": {
  "kernelspec": {
   "display_name": "Python3",
   "language": "python",
   "name": "python3"
  },
  "language_info": {
   "codemirror_mode": {
    "name": "ipython",
    "version": 3
   },
   "file_extension": ".py",
   "mimetype": "text/x-python",
   "name": "python",
   "nbconvert_exporter": "python",
   "pygments_lexer": "ipython3",
   "version": "3.12.3"
  }
 },
 "nbformat": 4,
 "nbformat_minor": 5
}
