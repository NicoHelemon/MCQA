{
 "cells": [
  {
   "cell_type": "code",
   "execution_count": 1,
   "id": "c6e560ef-a7a2-4840-93ea-98e8b9b1d4d2",
   "metadata": {},
   "outputs": [
    {
     "name": "stdout",
     "output_type": "stream",
     "text": [
      "🦥 Unsloth: Will patch your computer to enable 2x faster free finetuning.\n",
      "🦥 Unsloth Zoo will now patch everything to make training faster!\n"
     ]
    }
   ],
   "source": [
    "from QwenMCQA import *"
   ]
  },
  {
   "cell_type": "code",
   "execution_count": 2,
   "id": "53f73474-2a06-47b5-97db-c427a9183edf",
   "metadata": {},
   "outputs": [],
   "source": [
    "import random\n",
    "\n",
    "def generate_labels(n, enumerative = True, enforced_style = None):\n",
    "\tif enumerative or enforced_style is not None:\n",
    "\t\telement_styles = ['upper', 'lower', 'digit']\n",
    "\t\telement_probs  = [0.8, 0.1, 0.1]\n",
    "        #element_probs  = [1, 0, 0]\n",
    "\t\tpatterns       = ['_.', '_)', '(_)', '_ -']\n",
    "\t\tpattern_probs  = [0.7, 0.15, 0.1, 0.05]\n",
    "        #pattern_probs  = [1, 0, 0, 0]\n",
    "\n",
    "\t\tif enforced_style is None:\n",
    "\t\t\tstyle_elem = random.choices(element_styles, weights=element_probs, k=1)[0]\n",
    "\t\t\tstyle_pat  = random.choices(patterns,      weights=pattern_probs,  k=1)[0]\n",
    "\t\telse:\n",
    "\t\t\tstyle_elem, style_pat = enforced_style\n",
    "\n",
    "\t\tfuncs = {\n",
    "\t\t\t'upper': lambda i: chr(65 + i % 26),\n",
    "\t\t\t'lower': lambda i: chr(97 + i % 26),\n",
    "\t\t\t'digit': lambda i: str(i + 1)\n",
    "\t\t}\n",
    "\n",
    "\t\tlabels = [style_pat.replace('_', funcs[style_elem](i)) for i in range(n)]\n",
    "\t\tnaked_labels = [funcs[style_elem](i) for i in range(n)]\n",
    "\t\treturn labels, naked_labels\n",
    "\telse:\n",
    "\t\tpatterns = ['', '-', '*']\n",
    "\t\tpattern_probs = [0.7, 0.2, 0.1]\n",
    "\n",
    "\t\tstyle_pat = random.choices(patterns, weights=pattern_probs, k=1)[0]\n",
    "\n",
    "\t\treturn [style_pat for _ in range(n)]\n",
    "\n",
    "import random\n",
    "import numpy as np\n",
    "\n",
    "def prompt_creator(example, cot_prob = 0.5, random_seed=None):\n",
    "\tif random_seed is not None:\n",
    "\t\trandom.seed(random_seed)\n",
    "\n",
    "\t#You are a precise STEM multiple-choice question solver. 0.5\n",
    "\n",
    "\tsubjects = {'aqua_rat' : 'math',\n",
    "\t\t\t\t'medmcqa' : 'medicine',\n",
    "\t\t\t\t'mmlu_aux' : 'STEM',\n",
    "\t\t\t\t'openbookqa' : 'STEM',\n",
    "\t\t\t\t'sciq' : 'STEM'}\n",
    "\t\n",
    "\tenforced_styles = {'aqua_rat' : ('upper', '_.'),\n",
    "\t\t\t\t\t\t'medmcqa' : ('lower', '_.'),\n",
    "\t\t\t\t\t\t'mmlu_aux' : None,\n",
    "\t\t\t\t\t\t'openbookqa' : ('upper', '_.'),\n",
    "\t\t\t\t\t\t'sciq' : ('upper', '_.')}\n",
    "\t\n",
    "\ttopic = f\"knowledge and skills in advanced master-level {subjects[example['dataset']]} courses\"\n",
    "\tsetup = random.choices([f'The following are multiple choice questions (with answers) about {topic}.\\n',\n",
    "\t\t\t\t\t\t\tf'The following are multiple choice questions (with answers).\\n',\n",
    "\t\t\t\t\t\t\tf'Answer the following multiple choice question.\\n'],\n",
    "\t\t\t\t\t\t\tweights=[0.8, 0.1, 0.1],\n",
    "                            #weights=[1, 0, 0], \n",
    "\t\t\t\t\t\t\tk=1)[0]\n",
    "\n",
    "\tcot = ''\n",
    "\tdoing_cot = random.random() < cot_prob\n",
    "\tenforced_style = None\n",
    "\tif example['rationale'] != \"\" and doing_cot:\n",
    "\t\tcot = random.choices([f'Think step by step (before answering).\\n<think>\\n{example[\"rationale\"]}\\n</think>',\n",
    "\t\t\t\t\t\tf'Solve step-by-step.\\n<think>\\n{example[\"rationale\"]}\\n</think>',\n",
    "\t\t\t\t\t\tf'Reason step by step.\\n<think>\\n{example[\"rationale\"]}\\n</think>'],\n",
    "\t\t\t\t\t\tweights=[0.8, 0.1, 0.1],\n",
    "\t\t\t\t\t\tk=1)[0]\n",
    "\t\tenforced_style = enforced_styles[example['dataset']]\n",
    "\n",
    "\tgolden_idx = example[\"label_idx\"]\n",
    "\tn_words_avg = np.mean([len(option.split()) for option in example[\"options\"]])\n",
    "    full_option_prob = 0.15\n",
    "    #full_option_prob = 0\n",
    "\tfull_option = random.random() < full_option_prob if n_words_avg <= 4 else 0\n",
    "\tif not full_option or doing_cot:\n",
    "\t\tlabels, naked_labels = generate_labels(5, enforced_style=enforced_style)\n",
    "\t\tgolden_answer = naked_labels[golden_idx]\n",
    "\telse:\n",
    "\t\tlabels = generate_labels(5, enumerative=False)\n",
    "\t\tgolden_answer = example[\"options\"][golden_idx]\n",
    "\n",
    "\toptions = [f\"{label} {option}\".strip() for label, option in zip(labels, example[\"options\"])]\n",
    "\n",
    "\tlines = [setup, example[\"question\"]] + options + [cot, 'Answer:']\n",
    "\n",
    "\treturn '\\n'.join(lines), golden_answer\n",
    "\n",
    "def preprocess(example,\n",
    "               tokenizer,\n",
    "               max_length,\n",
    "               tokenized_marker,\n",
    "               cot_prob):\n",
    "\n",
    "    def find_last_subseq(seq, pat):\n",
    "        for i in range(len(seq) - len(pat), -1, -1):\n",
    "            if seq[i : i+len(pat)] == pat:\n",
    "                return i + len(pat) - 1\n",
    "        raise ValueError(\"Could not find marker\")\n",
    "\n",
    "    prompt, golden_answer = prompt_creator(example, cot_prob)\n",
    "\n",
    "    choice_ids = tokenizer.encode(f\" {golden_answer}\", add_special_tokens=False)\n",
    "    n_answer = len(choice_ids)\n",
    "\n",
    "    tok = tokenizer(\n",
    "        prompt,\n",
    "        max_length=max_length - n_answer,\n",
    "        truncation=True,\n",
    "        padding=False,\n",
    "    )\n",
    "\n",
    "    pad_len = max_length - len(tok[\"input_ids\"])\n",
    "    tok[\"input_ids\"]      += [tokenizer.pad_token_id] * pad_len\n",
    "    tok[\"attention_mask\"] += [0] * pad_len\n",
    "\n",
    "    labels = [-100] * max_length\n",
    "    ans_pos = find_last_subseq(tok[\"input_ids\"], tokenized_marker)\n",
    "    if ans_pos + 1 + n_answer > max_length:\n",
    "        raise ValueError(\"Not enough room for answer tokens\")\n",
    "    for i, tid in enumerate(choice_ids):\n",
    "        labels[ans_pos + 1 + i] = tid\n",
    "\n",
    "    return {\n",
    "        \"input_ids\":      tok[\"input_ids\"],\n",
    "        \"attention_mask\": tok[\"attention_mask\"],\n",
    "        \"labels\":         labels,\n",
    "    }"
   ]
  },
  {
   "cell_type": "code",
   "execution_count": 3,
   "id": "fced2cd9-68b4-47ae-a455-0d8dffeb74ba",
   "metadata": {},
   "outputs": [
    {
     "data": {
      "application/vnd.jupyter.widget-view+json": {
       "model_id": "f89d0cc7d44b413a81339b725458ced9",
       "version_major": 2,
       "version_minor": 0
      },
      "text/plain": [
       "README.md:   0%|          | 0.00/5.81k [00:00<?, ?B/s]"
      ]
     },
     "metadata": {},
     "output_type": "display_data"
    },
    {
     "data": {
      "application/vnd.jupyter.widget-view+json": {
       "model_id": "07616f42d6b0456ab0fdfae1bbc84ea6",
       "version_major": 2,
       "version_minor": 0
      },
      "text/plain": [
       "Generating train split:   0%|          | 0/200000 [00:00<?, ? examples/s]"
      ]
     },
     "metadata": {},
     "output_type": "display_data"
    },
    {
     "data": {
      "application/vnd.jupyter.widget-view+json": {
       "model_id": "be6ae6683494409ea622e0ef4ba18a51",
       "version_major": 2,
       "version_minor": 0
      },
      "text/plain": [
       "Generating validation split:   0%|          | 0/519 [00:00<?, ? examples/s]"
      ]
     },
     "metadata": {},
     "output_type": "display_data"
    },
    {
     "name": "stdout",
     "output_type": "stream",
     "text": [
      "==((====))==  Unsloth 2025.5.7: Fast Qwen3 patching. Transformers: 4.51.3.\n",
      "   \\\\   /|    NVIDIA A100-SXM4-40GB MIG 3g.20gb. Num GPUs = 1. Max memory: 19.625 GB. Platform: Linux.\n",
      "O^O/ \\_/ \\    Torch: 2.7.0+cu126. CUDA: 8.0. CUDA Toolkit: 12.6. Triton: 3.3.0\n",
      "\\        /    Bfloat16 = TRUE. FA [Xformers = 0.0.30. FA2 = False]\n",
      " \"-____-\"     Free license: http://github.com/unslothai/unsloth\n",
      "Unsloth: Fast downloading is enabled - ignore downloading bars which are red colored!\n"
     ]
    },
    {
     "name": "stderr",
     "output_type": "stream",
     "text": [
      "/home/my_venvs/mnlp_m2c/lib/python3.12/site-packages/awq/__init__.py:21: DeprecationWarning: \n",
      "I have left this message as the final dev message to help you transition.\n",
      "\n",
      "Important Notice:\n",
      "- AutoAWQ is officially deprecated and will no longer be maintained.\n",
      "- The last tested configuration used Torch 2.6.0 and Transformers 4.51.3.\n",
      "- If future versions of Transformers break AutoAWQ compatibility, please report the issue to the Transformers project.\n",
      "\n",
      "Alternative:\n",
      "- AutoAWQ has been adopted by the vLLM Project: https://github.com/vllm-project/llm-compressor\n",
      "\n",
      "For further inquiries, feel free to reach out:\n",
      "- X: https://x.com/casper_hansen_\n",
      "- LinkedIn: https://www.linkedin.com/in/casper-hansen-804005170/\n",
      "\n",
      "  warnings.warn(_FINAL_DEV_MESSAGE, category=DeprecationWarning, stacklevel=1)\n"
     ]
    },
    {
     "name": "stdout",
     "output_type": "stream",
     "text": [
      "Unsloth: Making `model.base_model.model.model` require gradients\n"
     ]
    },
    {
     "name": "stderr",
     "output_type": "stream",
     "text": [
      "/home/my_venvs/mnlp_m2c/lib/python3.12/site-packages/datasets/utils/_dill.py:385: DeprecationWarning: co_lnotab is deprecated, use co_lines instead.\n",
      "  obj.co_lnotab,  # for < python 3.10 [not counted in args]\n"
     ]
    },
    {
     "data": {
      "application/vnd.jupyter.widget-view+json": {
       "model_id": "8f476fcee4764fc592a791debe4e4e09",
       "version_major": 2,
       "version_minor": 0
      },
      "text/plain": [
       "Map:   0%|          | 0/200000 [00:00<?, ? examples/s]"
      ]
     },
     "metadata": {},
     "output_type": "display_data"
    },
    {
     "data": {
      "application/vnd.jupyter.widget-view+json": {
       "model_id": "27310fc768d849149edee4d9fffcedc3",
       "version_major": 2,
       "version_minor": 0
      },
      "text/plain": [
       "Map:   0%|          | 0/500 [00:00<?, ? examples/s]"
      ]
     },
     "metadata": {},
     "output_type": "display_data"
    },
    {
     "name": "stderr",
     "output_type": "stream",
     "text": [
      "/home/my_venvs/mnlp_m2c/lib/python3.12/site-packages/google/protobuf/internal/well_known_types.py:91: DeprecationWarning: datetime.datetime.utcfromtimestamp() is deprecated and scheduled for removal in a future version. Use timezone-aware objects to represent datetimes in UTC: datetime.datetime.fromtimestamp(timestamp, datetime.UTC).\n",
      "  _EPOCH_DATETIME_NAIVE = datetime.datetime.utcfromtimestamp(0)\n"
     ]
    }
   ],
   "source": [
    "from functools import partial\n",
    "p = 0\n",
    "\n",
    "preprocess_cot_prob_p = partial(preprocess, cot_prob=p)\n",
    "\n",
    "qwenMCQA = QwenMCQA(\n",
    "            preprocess_cot_prob_p,\n",
    "            my_model_name = 'cot00_e2',\n",
    "            num_epochs = 2,\n",
    "            batch_size = 128,\n",
    "            gradient_accumulation_steps = 2,\n",
    "            #save_steps = 16,\n",
    "            #logging_steps = 2,\n",
    "            #data_subset = 50\n",
    "            )"
   ]
  },
  {
   "cell_type": "code",
   "execution_count": null,
   "id": "ade46c08-ce92-4811-9327-dbb88e358a75",
   "metadata": {},
   "outputs": [
    {
     "name": "stdout",
     "output_type": "stream",
     "text": [
      "Starting training with LoRA adapters...\n",
      "🔄  No checkpoint found, starting from scratch …\n"
     ]
    },
    {
     "name": "stderr",
     "output_type": "stream",
     "text": [
      "==((====))==  Unsloth - 2x faster free finetuning | Num GPUs used = 1\n",
      "   \\\\   /|    Num examples = 200,000 | Num Epochs = 2 | Total steps = 1,562\n",
      "O^O/ \\_/ \\    Batch size per device = 128 | Gradient accumulation steps = 2\n",
      "\\        /    Data Parallel GPUs = 1 | Total batch size (128 x 2 x 1) = 256\n",
      " \"-____-\"     Trainable parameters = 66,060,288/6,000,000,000 (1.10% trained)\n",
      "`use_cache=True` is incompatible with gradient checkpointing. Setting `use_cache=False`.\n"
     ]
    },
    {
     "name": "stdout",
     "output_type": "stream",
     "text": [
      "Unsloth: Will smartly offload gradients to save VRAM!\n"
     ]
    },
    {
     "data": {
      "text/html": [
       "\n",
       "    <div>\n",
       "      \n",
       "      <progress value='125' max='1562' style='width:300px; height:20px; vertical-align: middle;'></progress>\n",
       "      [ 125/1562 24:06 < 4:41:42, 0.09 it/s, Epoch 0.16/2]\n",
       "    </div>\n",
       "    <table border=\"1\" class=\"dataframe\">\n",
       "  <thead>\n",
       " <tr style=\"text-align: left;\">\n",
       "      <th>Step</th>\n",
       "      <th>Training Loss</th>\n",
       "    </tr>\n",
       "  </thead>\n",
       "  <tbody>\n",
       "    <tr>\n",
       "      <td>10</td>\n",
       "      <td>4.226300</td>\n",
       "    </tr>\n",
       "    <tr>\n",
       "      <td>20</td>\n",
       "      <td>3.627600</td>\n",
       "    </tr>\n",
       "    <tr>\n",
       "      <td>30</td>\n",
       "      <td>3.245400</td>\n",
       "    </tr>\n",
       "    <tr>\n",
       "      <td>40</td>\n",
       "      <td>2.379600</td>\n",
       "    </tr>\n",
       "    <tr>\n",
       "      <td>50</td>\n",
       "      <td>1.886300</td>\n",
       "    </tr>\n",
       "    <tr>\n",
       "      <td>60</td>\n",
       "      <td>1.600600</td>\n",
       "    </tr>\n",
       "    <tr>\n",
       "      <td>70</td>\n",
       "      <td>1.510600</td>\n",
       "    </tr>\n",
       "    <tr>\n",
       "      <td>80</td>\n",
       "      <td>1.400300</td>\n",
       "    </tr>\n",
       "    <tr>\n",
       "      <td>90</td>\n",
       "      <td>1.439200</td>\n",
       "    </tr>\n",
       "    <tr>\n",
       "      <td>100</td>\n",
       "      <td>1.382400</td>\n",
       "    </tr>\n",
       "    <tr>\n",
       "      <td>110</td>\n",
       "      <td>1.345600</td>\n",
       "    </tr>\n",
       "    <tr>\n",
       "      <td>120</td>\n",
       "      <td>1.306700</td>\n",
       "    </tr>\n",
       "  </tbody>\n",
       "</table><p>"
      ],
      "text/plain": [
       "<IPython.core.display.HTML object>"
      ]
     },
     "metadata": {},
     "output_type": "display_data"
    },
    {
     "data": {
      "image/png": "[encoded data removed]",
      "text/plain": [
       "<Figure size 800x500 with 1 Axes>"
      ]
     },
     "metadata": {},
     "output_type": "display_data"
    }
   ],
   "source": [
    "qwenMCQA.train()\n",
    "qwenMCQA.merge()"
   ]
  }
 ],
 "metadata": {
  "kernelspec": {
   "display_name": "Python (mnlp_m2c)",
   "language": "python",
   "name": "mnlp_m2c"
  },
  "language_info": {
   "codemirror_mode": {
    "name": "ipython",
    "version": 3
   },
   "file_extension": ".py",
   "mimetype": "text/x-python",
   "name": "python",
   "nbconvert_exporter": "python",
   "pygments_lexer": "ipython3",
   "version": "3.12.8"
  }
 },
 "nbformat": 4,
 "nbformat_minor": 5
}
