{
 "cells": [
  {
   "cell_type": "code",
   "execution_count": 6,
   "id": "dce6afd2-043c-4fa9-a801-9aecc103d6a9",
   "metadata": {},
   "outputs": [],
   "source": [
    "from QwenMCQA import *  # your legacy_prompt or cot_prompt\n",
    "from datasets import load_dataset\n",
    "from transformers import AutoTokenizer\n",
    "\n",
    "def compute_truncation_and_overflow(dataset, tokenizer, max_length, prompt_function):\n",
    "    total_examples     = len(dataset)\n",
    "    truncated_examples = 0\n",
    "\n",
    "    total_tokens     = 0\n",
    "    overflow_tokens  = 0\n",
    "\n",
    "    for example in dataset:\n",
    "        prompt = prompt_function(example)[0]    # or cot_prompt(example)[0]\n",
    "        ids    = tokenizer(prompt, add_special_tokens=False)[\"input_ids\"]\n",
    "        L      = len(ids)\n",
    "\n",
    "        # count examples that exceed the limit\n",
    "        if L > max_length:\n",
    "            truncated_examples += 1\n",
    "\n",
    "        # accumulate token counts\n",
    "        total_tokens    += L\n",
    "        overflow_tokens += max(L - max_length, 0)\n",
    "\n",
    "    # example‐level stats\n",
    "    print(\n",
    "        f\"Examples truncated: {truncated_examples/total_examples*100:5.2f}%\"\n",
    "    )\n",
    "\n",
    "    # token‐level stats\n",
    "    ratio = overflow_tokens / total_tokens if total_tokens > 0 else 0.0\n",
    "    print(\n",
    "        f\"Tokens beyond max_length: {ratio*100:5.2f}%\"\n",
    "    )\n",
    "\n",
    "# usage\n",
    "BASE_MODEL = \"Qwen/Qwen3-0.6B-Base\"\n",
    "MAX_LEN    = 512\n",
    "\n",
    "ds        = load_dataset(\"NicoHelemon/MNLP_M3_mcqa_dataset\", split=\"train\")\n",
    "tokenizer = AutoTokenizer.from_pretrained(BASE_MODEL, use_fast=True)"
   ]
  },
  {
   "cell_type": "code",
   "execution_count": 7,
   "id": "883a193f-a9b3-4123-8f45-3d957923a470",
   "metadata": {},
   "outputs": [
    {
     "name": "stdout",
     "output_type": "stream",
     "text": [
      "Examples truncated:  4.76%\n",
      "Tokens beyond max_length:  2.40%\n"
     ]
    }
   ],
   "source": [
    "compute_truncation_and_overflow(ds, tokenizer, max_length=MAX_LEN, prompt_function = legacy_prompt)"
   ]
  },
  {
   "cell_type": "code",
   "execution_count": 9,
   "id": "8115fd2d-88bc-4ecd-9aec-6d73d91ead95",
   "metadata": {},
   "outputs": [
    {
     "name": "stdout",
     "output_type": "stream",
     "text": [
      "Examples truncated:  9.79%\n",
      "Tokens beyond max_length:  3.17%\n"
     ]
    }
   ],
   "source": [
    "cot_prompt_1 = partial(\n",
    "        cot_prompt,\n",
    "        cot_prob = 1\n",
    "    )\n",
    "\n",
    "compute_truncation_and_overflow(ds, tokenizer, max_length=MAX_LEN, prompt_function = cot_prompt_1)"
   ]
  }
 ],
 "metadata": {
  "kernelspec": {
   "display_name": "Python (mnlp_m2c)",
   "language": "python",
   "name": "mnlp_m2c"
  },
  "language_info": {
   "codemirror_mode": {
    "name": "ipython",
    "version": 3
   },
   "file_extension": ".py",
   "mimetype": "text/x-python",
   "name": "python",
   "nbconvert_exporter": "python",
   "pygments_lexer": "ipython3",
   "version": "3.12.8"
  }
 },
 "nbformat": 4,
 "nbformat_minor": 5
}
